{
 "cells": [
  {
   "cell_type": "code",
   "execution_count": 1,
   "metadata": {},
   "outputs": [],
   "source": [
    "import numpy as np\n",
    "import glob\n",
    "import matplotlib as m\n",
    "# ==============================================================================\n",
    "# CONSTANTS\n",
    "# ==============================================================================\n",
    "EN_DOCS = 18758 # number of samples of english documents\n",
    "EN_TOKENS = 21531 + 1 # number of features of english documents\n",
    "\n",
    "# Functions\n",
    "def create_dataframe (numRows, numCols, document):\n",
    "    datas = {} \n",
    "    datas['data'] =  np.zeros(shape=(EN_DOCS, EN_TOKENS), dtype='float32')\n",
    "    aux_list = []\n",
    "    for (index, value) in enumerate(document):\n",
    "        doc_splited = value.split(' ')\n",
    "        doc_splited.remove('\\n') # remove end of line character\n",
    "        for y in doc_splited:\n",
    "            splited = y.split(':')\n",
    "            if len(splited) == 1:\n",
    "                aux_list.append(splited[0])\n",
    "            else:\n",
    "                datas['data'][index][int(splited[0])] = float(splited[1])\n",
    "    datas['target'] = np.asarray(aux_list)\n",
    "    return datas\n",
    "\n",
    "# ==============================================================================\n",
    "# Here we can import all files from each path with glob lib using string matcher\n",
    "# If we have opened more than one file we need to map our file_names and create\n",
    "# ==============================================================================\n",
    "# You must have to unconpress the rcv1rcv2aminigoutte.tar.gz to create\n",
    "# rcv1rcv2aminigoutte path with the files\n",
    "#===============================================================================\n",
    "file_names = glob.glob('rcv1rcv2aminigoutte/EN/Index_EN-EN')\n",
    "with open(file_names[0]) as document:\n",
    "    file_read = document.readlines()\n",
    "    \n",
    "# ==============================================================================\n",
    "# ML\n",
    "# ==============================================================================\n",
    "datas = create_dataframe(EN_DOCS, EN_TOKENS, file_read)\n",
    "del(file_read)\n",
    "document.close()"
   ]
  },
  {
   "cell_type": "code",
   "execution_count": 2,
   "metadata": {},
   "outputs": [
    {
     "name": "stdout",
     "output_type": "stream",
     "text": [
      "Data matrix shape before feature selection: (18758, 21532)\n",
      "Data matrix shape after feature selection: (18758, 3004)\n"
     ]
    }
   ],
   "source": [
    "from sklearn.neighbors import KNeighborsClassifier\n",
    "from sklearn.model_selection import train_test_split\n",
    "from sklearn.ensemble import ExtraTreesClassifier\n",
    "from sklearn.feature_selection import SelectFromModel\n",
    "# ==============================================================================\n",
    "# Getting feature and data values\n",
    "# ==============================================================================\n",
    "y = datas['target']\n",
    "X = datas['data']\n",
    "del(datas)\n",
    "\n",
    "# ==============================================================================\n",
    "# Applying feature selection\n",
    "# ==============================================================================\n",
    "clf = ExtraTreesClassifier()\n",
    "clf = clf.fit(X, y)\n",
    "model = SelectFromModel(clf, prefit=True)\n",
    "X_new = model.transform(X)\n",
    "print('Data matrix shape before feature selection: ' + str(X.shape))\n",
    "print('Data matrix shape after feature selection: ' + str(X_new.shape))"
   ]
  },
  {
   "cell_type": "code",
   "execution_count": 3,
   "metadata": {},
   "outputs": [
    {
     "name": "stdout",
     "output_type": "stream",
     "text": [
      "Splitting dataset to train and test....\n"
     ]
    }
   ],
   "source": [
    "# ==============================================================================\n",
    "# Splitting datasets\n",
    "# ==============================================================================\n",
    "print('Splitting dataset to train and test....')\n",
    "X_train, X_test, y_train, y_test = train_test_split(\n",
    "    X_new,\n",
    "    y,\n",
    "    test_size=0.25,\n",
    "    random_state=42,\n",
    "    stratify=y\n",
    ")\n",
    "\n",
    "del(X)\n",
    "del(X_new)"
   ]
  },
  {
   "cell_type": "code",
   "execution_count": 6,
   "metadata": {},
   "outputs": [
    {
     "name": "stdout",
     "output_type": "stream",
     "text": [
      "Finding the best k for number of neighbors...\n",
      "For K = 1.....\n",
      "Fitting KNN classifier....\n",
      "Getting scores....\n",
      "Score for k = 1: 0.6443496801705757\n",
      "For K = 2.....\n",
      "Fitting KNN classifier....\n",
      "Getting scores....\n",
      "Score for k = 2: 0.5479744136460555\n",
      "For K = 3.....\n",
      "Fitting KNN classifier....\n",
      "Getting scores....\n",
      "Score for k = 3: 0.5831556503198294\n",
      "For K = 4.....\n",
      "Fitting KNN classifier....\n",
      "Getting scores....\n",
      "Score for k = 4: 0.5889125799573561\n",
      "For K = 5.....\n",
      "Fitting KNN classifier....\n",
      "Getting scores....\n",
      "Score for k = 5: 0.5867803837953092\n",
      "For K = 6.....\n",
      "Fitting KNN classifier....\n",
      "Getting scores....\n",
      "Score for k = 6: 0.5874200426439232\n",
      "For K = 7.....\n",
      "Fitting KNN classifier....\n",
      "Getting scores....\n",
      "Score for k = 7: 0.5914712153518124\n",
      "For K = 8.....\n",
      "Fitting KNN classifier....\n",
      "Getting scores....\n",
      "Score for k = 8: 0.5859275053304904\n",
      "For K = 9.....\n",
      "Fitting KNN classifier....\n",
      "Getting scores....\n",
      "Score for k = 9: 0.591684434968017\n",
      "For K = 10.....\n",
      "Fitting KNN classifier....\n",
      "Getting scores....\n",
      "Score for k = 10: 0.5833688699360341\n"
     ]
    }
   ],
   "source": [
    "# ==============================================================================\n",
    "# Finding the best K\n",
    "# ==============================================================================\n",
    "print('Finding the best k for number of neighbors...')\n",
    "k_scores = []\n",
    "for k in range(1, 11):\n",
    "    print('For K = ' + str(k) + '.....')\n",
    "    print('Fitting KNN classifier....')\n",
    "    knn = KNeighborsClassifier(n_neighbors=k)\n",
    "    knn.fit(X_train, y_train)\n",
    "\n",
    "    # ==============================================================================\n",
    "    # Getting \"model\" accuracy.\n",
    "    # \"model\" because KNN doesn't explicity learn a model. This classifier chooses\n",
    "    # to memorizes the training instances which are subsequently used as \"knowledge\"\n",
    "    # on prediction phase (instance-based learning algorithm)\n",
    "    # ==============================================================================\n",
    "    print('Getting scores....')\n",
    "    knn_score = knn.score(X_test, y_test)\n",
    "    print('Score for k = ' + str(k) + ': ' + str(knn_score))\n",
    "    k_scores.append(knn_score)"
   ]
  },
  {
   "cell_type": "code",
   "execution_count": 7,
   "metadata": {},
   "outputs": [
    {
     "name": "stdout",
     "output_type": "stream",
     "text": [
      "Best k to KNN Classifier: 1\n",
      "Getting scores....\n",
      "Getting classification report....\n",
      "             precision    recall  f1-score   support\n",
      "\n",
      "        C15       0.61      0.91      0.73      1276\n",
      "       CCAT       0.67      0.34      0.45      1083\n",
      "        E21       0.88      0.54      0.67       308\n",
      "       ECAT       0.79      0.45      0.57       514\n",
      "       GCAT       0.60      0.80      0.69      1207\n",
      "        M11       0.95      0.46      0.62       302\n",
      "\n",
      "avg / total       0.68      0.64      0.62      4690\n",
      "\n"
     ]
    }
   ],
   "source": [
    "np_k_scores = np.asarray(k_scores)\n",
    "best_k = np.argmax(np_k_scores) + 1\n",
    "print('Best k to KNN Classifier: ' + str(best_k))\n",
    "knn = KNeighborsClassifier(n_neighbors=best_k)\n",
    "knn.fit(X_train, y_train)\n",
    "print('Getting scores....')\n",
    "y_pred = knn.predict(X_test)\n",
    "\n",
    "\n",
    "from sklearn.metrics import classification_report\n",
    "\n",
    "print('Getting classification report....')\n",
    "report = classification_report(y_test, y_pred)\n",
    "print(report)"
   ]
  }
 ],
 "metadata": {
  "kernelspec": {
   "display_name": "Python 3",
   "language": "python",
   "name": "python3"
  },
  "language_info": {
   "codemirror_mode": {
    "name": "ipython",
    "version": 3
   },
   "file_extension": ".py",
   "mimetype": "text/x-python",
   "name": "python",
   "nbconvert_exporter": "python",
   "pygments_lexer": "ipython3",
   "version": "3.6.4"
  }
 },
 "nbformat": 4,
 "nbformat_minor": 2
}

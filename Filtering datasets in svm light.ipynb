{
 "cells": [
  {
   "cell_type": "code",
   "execution_count": 9,
   "metadata": {},
   "outputs": [],
   "source": [
    "import numpy as np\n",
    "import pandas as pd\n",
    "import matplotlib.pyplot as plt\n",
    "from sklearn.datasets import load_svmlight_file\n",
    "from sklearn.ensemble import RandomForestClassifier\n",
    "from scipy import sparse\n",
    "from scipy.sparse import coo_matrix"
   ]
  },
  {
   "cell_type": "markdown",
   "metadata": {},
   "source": [
    "#### Categorias do Documento  \n",
    "Como explicado na documentação, os textos são divididos em algumas categorias. Para processar os dados, deve-se converter essas strings em números.  \n",
    "É importante lembrar que antes de executar o programa deve-se descompactar o arquivo *rcv1rcv2aminigoutte.tar.gz* na pasta do projeto. Isso criará a pasta *rcv1rcv2aminigoutte*, que contém os arquivos necessários para o problema."
   ]
  },
  {
   "cell_type": "code",
   "execution_count": 10,
   "metadata": {},
   "outputs": [],
   "source": [
    "categories = {'C15': 4587, 'CCAT': 8745, 'E21': 9625, 'ECAT': 5656, 'GCAT': 8745, 'M11': 45845}"
   ]
  },
  {
   "cell_type": "markdown",
   "metadata": {},
   "source": [
    "Esse método faz esse tratamento dos dados, substituindo as strings correspondentes as classes em seus respectivos números."
   ]
  },
  {
   "cell_type": "code",
   "execution_count": 11,
   "metadata": {},
   "outputs": [],
   "source": [
    "def filter_datas(file, target_file):\n",
    "    with open(file, 'r') as document_read:\n",
    "        with open(target_file, 'w') as document_write:\n",
    "            for line in document_read:\n",
    "                target = line.split(None, 1)[0]\n",
    "                line_to_write = '%s %s' % (categories[target], line[len(target)+1:len(line)])\n",
    "                document_write.write(line_to_write)\n",
    "        \n",
    "    return target_file"
   ]
  },
  {
   "cell_type": "markdown",
   "metadata": {},
   "source": [
    "#### Carregando o dataset no formato SVMLight"
   ]
  },
  {
   "cell_type": "code",
   "execution_count": 12,
   "metadata": {},
   "outputs": [],
   "source": [
    "file = filter_datas('rcv1rcv2aminigoutte/EN/Index_EN-EN', 'svml_en_en.txt')\n",
    "x,  y = load_svmlight_file(file)"
   ]
  },
  {
   "cell_type": "markdown",
   "metadata": {},
   "source": [
    "#### Selecionando variáveis importantes para a construção do modelo\n",
    "Um dos benefícios do RandomForestClassifier é que se pode trabalhar com muitos dados e pode reduzir a dimensionalidade, pois ele identifica as variáveis mais importantes. \n"
   ]
  },
  {
   "cell_type": "code",
   "execution_count": 13,
   "metadata": {},
   "outputs": [
    {
     "name": "stdout",
     "output_type": "stream",
     "text": [
      "8        0.033306\n",
      "7        0.014236\n",
      "28       0.012603\n",
      "96       0.012479\n",
      "14       0.010081\n",
      "59       0.009965\n",
      "103      0.008336\n",
      "131      0.007474\n",
      "158      0.007407\n",
      "165      0.007175\n",
      "54       0.007132\n",
      "312      0.005265\n",
      "464      0.005166\n",
      "230      0.005109\n",
      "34       0.005031\n",
      "80       0.005011\n",
      "326      0.004990\n",
      "57       0.004802\n",
      "699      0.004800\n",
      "0        0.004634\n",
      "18       0.004359\n",
      "84       0.004180\n",
      "42       0.004010\n",
      "270      0.003957\n",
      "221      0.003840\n",
      "4        0.003710\n",
      "425      0.003699\n",
      "280      0.003663\n",
      "666      0.003634\n",
      "934      0.003595\n",
      "           ...   \n",
      "11740    0.000000\n",
      "11741    0.000000\n",
      "11771    0.000000\n",
      "11770    0.000000\n",
      "11769    0.000000\n",
      "11768    0.000000\n",
      "11767    0.000000\n",
      "11766    0.000000\n",
      "11765    0.000000\n",
      "11764    0.000000\n",
      "11762    0.000000\n",
      "11761    0.000000\n",
      "11760    0.000000\n",
      "11759    0.000000\n",
      "11758    0.000000\n",
      "11757    0.000000\n",
      "11755    0.000000\n",
      "11754    0.000000\n",
      "11753    0.000000\n",
      "11752    0.000000\n",
      "11751    0.000000\n",
      "11750    0.000000\n",
      "11749    0.000000\n",
      "11747    0.000000\n",
      "11746    0.000000\n",
      "11745    0.000000\n",
      "11744    0.000000\n",
      "11743    0.000000\n",
      "11742    0.000000\n",
      "21530    0.000000\n",
      "Length: 21531, dtype: float64\n"
     ]
    }
   ],
   "source": [
    "model = RandomForestClassifier()\n",
    "model.fit(x, y)\n",
    "\n",
    "featimp = pd.Series(model.feature_importances_).sort_values(ascending=False)\n",
    "print(featimp)"
   ]
  },
  {
   "cell_type": "markdown",
   "metadata": {},
   "source": [
    "#### Matriz esparça no formato de COOrdenadas"
   ]
  },
  {
   "cell_type": "code",
   "execution_count": 14,
   "metadata": {},
   "outputs": [
    {
     "name": "stdout",
     "output_type": "stream",
     "text": [
      "  (0, 0)\t-3.818658\n",
      "  (0, 1)\t0.922576\n",
      "  (0, 4)\t1.294301\n",
      "  (0, 16)\t2.467734\n",
      "  (0, 17)\t2.540152\n",
      "  (0, 19)\t2.586254\n",
      "  (0, 24)\t2.404756\n",
      "  (0, 49)\t3.308865\n",
      "  (0, 51)\t3.0313\n",
      "  (0, 72)\t3.266316\n",
      "  (0, 76)\t3.624791\n",
      "  (0, 82)\t3.66837\n",
      "  (0, 101)\t3.750902\n",
      "  (0, 109)\t3.825625\n",
      "  (0, 119)\t3.925834\n",
      "  (0, 134)\t4.013698\n",
      "  (0, 145)\t3.763491\n",
      "  (0, 160)\t4.230347\n",
      "  (0, 169)\t4.266229\n",
      "  (0, 172)\t4.270767\n",
      "  (0, 191)\t3.706258\n",
      "  (0, 195)\t4.353002\n",
      "  (0, 234)\t4.542887\n",
      "  (0, 236)\t3.470596\n",
      "  (0, 252)\t4.619306\n",
      "  :\t:\n",
      "  (18757, 3651)\t5.689319\n",
      "  (18757, 4026)\t5.820831\n",
      "  (18757, 4294)\t5.893602\n",
      "  (18757, 4297)\t5.893602\n",
      "  (18757, 4563)\t5.972013\n",
      "  (18757, 4729)\t6.035087\n",
      "  (18757, 4833)\t6.049433\n",
      "  (18757, 4854)\t6.057017\n",
      "  (18757, 5036)\t6.102357\n",
      "  (18757, 5537)\t6.25203\n",
      "  (18757, 5866)\t6.336096\n",
      "  (18757, 6080)\t6.396297\n",
      "  (18757, 6401)\t6.460316\n",
      "  (18757, 6466)\t6.493915\n",
      "  (18757, 6502)\t6.493915\n",
      "  (18757, 7613)\t6.723052\n",
      "  (18757, 7794)\t6.752754\n",
      "  (18757, 8233)\t6.860645\n",
      "  (18757, 9117)\t7.011233\n",
      "  (18757, 10402)\t7.209414\n",
      "  (18757, 11818)\t7.358872\n",
      "  (18757, 12024)\t7.44283\n",
      "  (18757, 12062)\t7.44283\n",
      "  (18757, 13843)\t7.63519\n",
      "  (18757, 20343)\t8.163445\n"
     ]
    }
   ],
   "source": [
    "A = sparse.coo_matrix(x, y)\n",
    "print(A)"
   ]
  },
  {
   "cell_type": "code",
   "execution_count": 15,
   "metadata": {},
   "outputs": [
    {
     "data": {
      "image/png": "[encoded data removed]",
      "text/plain": [
       "<Figure size 432x288 with 1 Axes>"
      ]
     },
     "metadata": {},
     "output_type": "display_data"
    }
   ],
   "source": [
    "def plot_coo_matrix(m):\n",
    "    if not isinstance(m, coo_matrix):\n",
    "        m = coo_matrix(m)\n",
    "    fig = plt.figure()\n",
    "    ax = fig.add_subplot(111)\n",
    "    ax.plot(m.col, m.row, 's', color='black', ms=1)\n",
    "    ax.set_xlim(0, m.shape[1])\n",
    "    ax.set_ylim(0, m.shape[0])\n",
    "    ax.set_aspect('equal')\n",
    "    for spine in ax.spines.values():\n",
    "        spine.set_visible(False)\n",
    "    ax.invert_yaxis()\n",
    "    ax.set_aspect('equal')\n",
    "    ax.set_xticks([])\n",
    "    ax.set_yticks([])\n",
    "    return ax\n",
    "    \n",
    "\n",
    "shape = (100000, 100000)\n",
    "rows = np.int_(np.round_(shape[0]*np.random.random(1000)))\n",
    "cols = np.int_(np.round_(shape[1]*np.random.random(1000)))\n",
    "vals = np.ones_like(rows)\n",
    "\n",
    "ax = plot_coo_matrix(A)"
   ]
  }
 ],
 "metadata": {
  "kernelspec": {
   "display_name": "Python 3",
   "language": "python",
   "name": "python3"
  },
  "language_info": {
   "codemirror_mode": {
    "name": "ipython",
    "version": 3
   },
   "file_extension": ".py",
   "mimetype": "text/x-python",
   "name": "python",
   "nbconvert_exporter": "python",
   "pygments_lexer": "ipython3",
   "version": "3.5.2"
  }
 },
 "nbformat": 4,
 "nbformat_minor": 2
}

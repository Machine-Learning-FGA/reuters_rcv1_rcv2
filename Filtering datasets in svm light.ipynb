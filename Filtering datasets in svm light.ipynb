{
 "cells": [
  {
   "cell_type": "markdown",
   "metadata": {},
   "source": [
    "## Creating function to filter the data"
   ]
  },
  {
   "cell_type": "code",
   "execution_count": 13,
   "metadata": {},
   "outputs": [
    {
     "name": "stdout",
     "output_type": "stream",
     "text": [
      "  (0, 0)\t-3.818658\n",
      "  (0, 1)\t0.922576\n",
      "  (0, 4)\t1.294301\n",
      "  (0, 16)\t2.467734\n",
      "  (0, 17)\t2.540152\n",
      "  (0, 19)\t2.586254\n",
      "  (0, 24)\t2.404756\n",
      "  (0, 49)\t3.308865\n",
      "  (0, 51)\t3.0313\n",
      "  (0, 72)\t3.266316\n",
      "  (0, 76)\t3.624791\n",
      "  (0, 82)\t3.66837\n",
      "  (0, 101)\t3.750902\n",
      "  (0, 109)\t3.825625\n",
      "  (0, 119)\t3.925834\n",
      "  (0, 134)\t4.013698\n",
      "  (0, 145)\t3.763491\n",
      "  (0, 160)\t4.230347\n",
      "  (0, 169)\t4.266229\n",
      "  (0, 172)\t4.270767\n",
      "  (0, 191)\t3.706258\n",
      "  (0, 195)\t4.353002\n",
      "  (0, 234)\t4.542887\n",
      "  (0, 236)\t3.470596\n",
      "  (0, 252)\t4.619306\n",
      "  :\t:\n",
      "  (18757, 3651)\t5.689319\n",
      "  (18757, 4026)\t5.820831\n",
      "  (18757, 4294)\t5.893602\n",
      "  (18757, 4297)\t5.893602\n",
      "  (18757, 4563)\t5.972013\n",
      "  (18757, 4729)\t6.035087\n",
      "  (18757, 4833)\t6.049433\n",
      "  (18757, 4854)\t6.057017\n",
      "  (18757, 5036)\t6.102357\n",
      "  (18757, 5537)\t6.25203\n",
      "  (18757, 5866)\t6.336096\n",
      "  (18757, 6080)\t6.396297\n",
      "  (18757, 6401)\t6.460316\n",
      "  (18757, 6466)\t6.493915\n",
      "  (18757, 6502)\t6.493915\n",
      "  (18757, 7613)\t6.723052\n",
      "  (18757, 7794)\t6.752754\n",
      "  (18757, 8233)\t6.860645\n",
      "  (18757, 9117)\t7.011233\n",
      "  (18757, 10402)\t7.209414\n",
      "  (18757, 11818)\t7.358872\n",
      "  (18757, 12024)\t7.44283\n",
      "  (18757, 12062)\t7.44283\n",
      "  (18757, 13843)\t7.63519\n",
      "  (18757, 20343)\t8.163445\n",
      "[5656. 5656. 5656. ... 9625. 9625. 9625.]\n"
     ]
    }
   ],
   "source": [
    "from sklearn.datasets import load_svmlight_file\n",
    "\n",
    "# Categories of documents\n",
    "categories = {'C15': 4587, 'CCAT': 8745, 'E21': 9625, 'ECAT': 5656, 'GCAT': 8745, 'M11': 45845}\n",
    "\n",
    "# Here convert string target to float target in file \n",
    "def filter_datas(file):\n",
    "    with open(file, 'r') as document_read:\n",
    "        with open('output.txt', 'w') as document_write:\n",
    "            for line in document_read:\n",
    "                target = line.split(None, 1)[0]\n",
    "                line_to_write = '%s %s' % (categories[target], line[len(target)+1:len(line)])\n",
    "                document_write.write(line_to_write)\n",
    "        \n",
    "    return 'output.txt'\n",
    "\n",
    "# Loading datasets in the svmlight format.\n",
    "svm_light = filter_datas('rcv1rcv2aminigoutte/EN/Index_EN-EN')\n",
    "x_feature, y_target = load_svmlight_file('output.txt')\n",
    "print(x_feature)\n",
    "print(y_train)"
   ]
  },
  {
   "cell_type": "code",
   "execution_count": null,
   "metadata": {},
   "outputs": [],
   "source": []
  }
 ],
 "metadata": {
  "kernelspec": {
   "display_name": "Python 3",
   "language": "python",
   "name": "python3"
  },
  "language_info": {
   "codemirror_mode": {
    "name": "ipython",
    "version": 3
   },
   "file_extension": ".py",
   "mimetype": "text/x-python",
   "name": "python",
   "nbconvert_exporter": "python",
   "pygments_lexer": "ipython3",
   "version": "3.5.2"
  }
 },
 "nbformat": 4,
 "nbformat_minor": 2
}

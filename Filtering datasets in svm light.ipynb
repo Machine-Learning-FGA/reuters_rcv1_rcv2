{
 "cells": [
  {
   "cell_type": "markdown",
   "metadata": {},
   "source": [
    "## Creating function to filter the data"
   ]
  },
  {
   "cell_type": "code",
   "execution_count": 1,
   "metadata": {},
   "outputs": [],
   "source": [
    "import numpy as np\n",
    "from sklearn.datasets import load_svmlight_file\n",
    "\n",
    "# ==============================================================================\n",
    "# You must have to unconpress the rcv1rcv2aminigoutte.tar.gz to create\n",
    "# rcv1rcv2aminigoutte path with the files\n",
    "#===============================================================================\n",
    "\n",
    "# Categories of documents\n",
    "categories = {'C15': 4587, 'CCAT': 8745, 'E21': 9625, 'ECAT': 5656, 'GCAT': 8745, 'M11': 45845}\n",
    "\n",
    "# Convert target from string float target in file \n",
    "def filter_datas(file, target_file):\n",
    "    with open(file, 'r') as document_read:\n",
    "        with open(target_file, 'w') as document_write:\n",
    "            for line in document_read:\n",
    "                target = line.split(None, 1)[0]\n",
    "                line_to_write = '%s %s' % (categories[target], line[len(target)+1:len(line)])\n",
    "                document_write.write(line_to_write)\n",
    "        \n",
    "    return target_file\n",
    "\n",
    "# Loading datasets in svmlight format.\n",
    "file = filter_datas('rcv1rcv2aminigoutte/EN/Index_EN-EN', 'svml_en_en.txt')\n",
    "x,  y = load_svmlight_file(file)"
   ]
  },
  {
   "cell_type": "markdown",
   "metadata": {},
   "source": [
    "### Selecting important variables for model building\n",
    "\n",
    "* Um dos benefícios do RandomForestClassifier é que se pode trabalhar com muitos dados e pode reduzir a dimensionalidade, pois ele identifica as variáveis mais importantes. \n"
   ]
  },
  {
   "cell_type": "code",
   "execution_count": 3,
   "metadata": {},
   "outputs": [
    {
     "name": "stdout",
     "output_type": "stream",
     "text": [
      "59       0.014113\n",
      "28       0.013417\n",
      "79       0.010513\n",
      "103      0.010377\n",
      "54       0.009870\n",
      "102      0.009530\n",
      "18       0.009480\n",
      "165      0.009005\n",
      "142      0.008308\n",
      "10       0.008136\n",
      "158      0.007486\n",
      "270      0.006930\n",
      "25       0.006391\n",
      "26       0.006285\n",
      "224      0.006145\n",
      "14       0.005928\n",
      "189      0.005837\n",
      "8        0.005807\n",
      "216      0.005295\n",
      "7        0.005196\n",
      "34       0.005177\n",
      "3        0.005131\n",
      "650      0.004905\n",
      "1        0.004756\n",
      "80       0.004736\n",
      "24       0.004667\n",
      "94       0.004570\n",
      "98       0.004533\n",
      "211      0.004509\n",
      "498      0.004481\n",
      "           ...   \n",
      "13042    0.000000\n",
      "13043    0.000000\n",
      "13044    0.000000\n",
      "13045    0.000000\n",
      "13050    0.000000\n",
      "13018    0.000000\n",
      "13051    0.000000\n",
      "13052    0.000000\n",
      "13055    0.000000\n",
      "13059    0.000000\n",
      "13060    0.000000\n",
      "13061    0.000000\n",
      "13038    0.000000\n",
      "13036    0.000000\n",
      "13035    0.000000\n",
      "13034    0.000000\n",
      "13033    0.000000\n",
      "13032    0.000000\n",
      "13031    0.000000\n",
      "13030    0.000000\n",
      "13029    0.000000\n",
      "13028    0.000000\n",
      "13027    0.000000\n",
      "13025    0.000000\n",
      "13024    0.000000\n",
      "13023    0.000000\n",
      "13022    0.000000\n",
      "13021    0.000000\n",
      "13020    0.000000\n",
      "10765    0.000000\n",
      "Length: 21531, dtype: float64\n"
     ]
    }
   ],
   "source": [
    "from sklearn.ensemble import RandomForestClassifier\n",
    "import pandas as pd\n",
    "\n",
    "model = RandomForestClassifier()\n",
    "model.fit(x, y)\n",
    "\n",
    "featimp = pd.Series(model.feature_importances_).sort_values(ascending=False)\n",
    "print(featimp)"
   ]
  },
  {
   "cell_type": "code",
   "execution_count": 4,
   "metadata": {},
   "outputs": [
    {
     "name": "stdout",
     "output_type": "stream",
     "text": [
      "  (0, 0)\t-3.818658\n",
      "  (0, 1)\t0.922576\n",
      "  (0, 4)\t1.294301\n",
      "  (0, 16)\t2.467734\n",
      "  (0, 17)\t2.540152\n",
      "  (0, 19)\t2.586254\n",
      "  (0, 24)\t2.404756\n",
      "  (0, 49)\t3.308865\n",
      "  (0, 51)\t3.0313\n",
      "  (0, 72)\t3.266316\n",
      "  (0, 76)\t3.624791\n",
      "  (0, 82)\t3.66837\n",
      "  (0, 101)\t3.750902\n",
      "  (0, 109)\t3.825625\n",
      "  (0, 119)\t3.925834\n",
      "  (0, 134)\t4.013698\n",
      "  (0, 145)\t3.763491\n",
      "  (0, 160)\t4.230347\n",
      "  (0, 169)\t4.266229\n",
      "  (0, 172)\t4.270767\n",
      "  (0, 191)\t3.706258\n",
      "  (0, 195)\t4.353002\n",
      "  (0, 234)\t4.542887\n",
      "  (0, 236)\t3.470596\n",
      "  (0, 252)\t4.619306\n",
      "  :\t:\n",
      "  (18757, 3651)\t5.689319\n",
      "  (18757, 4026)\t5.820831\n",
      "  (18757, 4294)\t5.893602\n",
      "  (18757, 4297)\t5.893602\n",
      "  (18757, 4563)\t5.972013\n",
      "  (18757, 4729)\t6.035087\n",
      "  (18757, 4833)\t6.049433\n",
      "  (18757, 4854)\t6.057017\n",
      "  (18757, 5036)\t6.102357\n",
      "  (18757, 5537)\t6.25203\n",
      "  (18757, 5866)\t6.336096\n",
      "  (18757, 6080)\t6.396297\n",
      "  (18757, 6401)\t6.460316\n",
      "  (18757, 6466)\t6.493915\n",
      "  (18757, 6502)\t6.493915\n",
      "  (18757, 7613)\t6.723052\n",
      "  (18757, 7794)\t6.752754\n",
      "  (18757, 8233)\t6.860645\n",
      "  (18757, 9117)\t7.011233\n",
      "  (18757, 10402)\t7.209414\n",
      "  (18757, 11818)\t7.358872\n",
      "  (18757, 12024)\t7.44283\n",
      "  (18757, 12062)\t7.44283\n",
      "  (18757, 13843)\t7.63519\n",
      "  (18757, 20343)\t8.163445\n"
     ]
    }
   ],
   "source": [
    "from scipy import sparse\n",
    "\n",
    "A = sparse.coo_matrix(x, y)\n",
    "print(A)"
   ]
  },
  {
   "cell_type": "code",
   "execution_count": 5,
   "metadata": {},
   "outputs": [
    {
     "data": {
      "text/plain": [
       "<matplotlib.axes._subplots.AxesSubplot at 0x7f0c9d77afd0>"
      ]
     },
     "execution_count": 5,
     "metadata": {},
     "output_type": "execute_result"
    }
   ],
   "source": [
    "import matplotlib.pyplot as plt\n",
    "from scipy.sparse import coo_matrix\n",
    "\n",
    "def plot_coo_matrix(m):\n",
    "    if not isinstance(m, coo_matrix):\n",
    "        m = coo_matrix(m)\n",
    "    fig = plt.figure()\n",
    "    ax = fig.add_subplot(111)\n",
    "    ax.plot(m.col, m.row, 's', color='black', ms=1)\n",
    "    ax.set_xlim(0, m.shape[1])\n",
    "    ax.set_ylim(0, m.shape[0])\n",
    "    ax.set_aspect('equal')\n",
    "    for spine in ax.spines.values():\n",
    "        spine.set_visible(False)\n",
    "    ax.invert_yaxis()\n",
    "    ax.set_aspect('equal')\n",
    "    ax.set_xticks([])\n",
    "    ax.set_yticks([])\n",
    "    return ax\n",
    "    \n",
    "\n",
    "shape = (100000, 100000)\n",
    "rows = np.int_(np.round_(shape[0]*np.random.random(1000)))\n",
    "cols = np.int_(np.round_(shape[1]*np.random.random(1000)))\n",
    "vals = np.ones_like(rows)\n",
    "\n",
    "plot_coo_matrix(A)"
   ]
  },
  {
   "cell_type": "code",
   "execution_count": null,
   "metadata": {},
   "outputs": [],
   "source": []
  }
 ],
 "metadata": {
  "kernelspec": {
   "display_name": "Python 3",
   "language": "python",
   "name": "python3"
  },
  "language_info": {
   "codemirror_mode": {
    "name": "ipython",
    "version": 3
   },
   "file_extension": ".py",
   "mimetype": "text/x-python",
   "name": "python",
   "nbconvert_exporter": "python",
   "pygments_lexer": "ipython3",
   "version": "3.5.2"
  }
 },
 "nbformat": 4,
 "nbformat_minor": 2
}

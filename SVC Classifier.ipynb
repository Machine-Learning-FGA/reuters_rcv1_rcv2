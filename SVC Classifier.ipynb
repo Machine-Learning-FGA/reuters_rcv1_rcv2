{
 "cells": [
  {
   "cell_type": "code",
   "execution_count": 1,
   "metadata": {},
   "outputs": [],
   "source": [
    "import numpy as np\n",
    "import itertools\n",
    "import matplotlib.pyplot as plt\n",
    "from sklearn.datasets import load_svmlight_file\n",
    "from sklearn.ensemble import ExtraTreesClassifier\n",
    "from sklearn.feature_selection import SelectFromModel\n",
    "from sklearn.svm import SVC\n",
    "from sklearn.svm import LinearSVC\n",
    "from sklearn.model_selection import train_test_split\n",
    "from sklearn.metrics import confusion_matrix\n",
    "from sklearn.metrics import classification_report"
   ]
  },
  {
   "cell_type": "markdown",
   "metadata": {},
   "source": [
    "#### Categorias do Documento  \n",
    "Como explicado na documentação, os textos são divididos em algumas categorias. Para processar os dados, deve-se converter essas strings em números.  \n",
    "É importante lembrar que antes de executar o programa deve-se descompactar o arquivo *rcv1rcv2aminigoutte.tar.gz* na pasta do projeto. Isso criará a pasta *rcv1rcv2aminigoutte*, que contém os arquivos necessários para o problema."
   ]
  },
  {
   "cell_type": "code",
   "execution_count": 2,
   "metadata": {},
   "outputs": [],
   "source": [
    "categories = {'C15': 4587, 'CCAT': 8745, 'E21': 9625, 'ECAT': 5656, 'GCAT': 5745, 'M11': 45845}"
   ]
  },
  {
   "cell_type": "markdown",
   "metadata": {},
   "source": [
    "Esse método faz esse tratamento dos dados, substituindo as strings correspondentes as classes em seus respectivos números."
   ]
  },
  {
   "cell_type": "code",
   "execution_count": 3,
   "metadata": {},
   "outputs": [],
   "source": [
    "def filter_datas(file, target_file):\n",
    "    with open(file, 'r') as document_read:\n",
    "        with open(target_file, 'w') as document_write:\n",
    "            for line in document_read:\n",
    "                target = line.split(None, 1)[0]\n",
    "                line_to_write = '%s %s' % (categories[target], line[len(target)+1:len(line)])\n",
    "                document_write.write(line_to_write)\n",
    "        \n",
    "    return target_file"
   ]
  },
  {
   "cell_type": "markdown",
   "metadata": {},
   "source": [
    "#### Carregando o dataset no formato SVMLight"
   ]
  },
  {
   "cell_type": "code",
   "execution_count": 4,
   "metadata": {},
   "outputs": [],
   "source": [
    "file = filter_datas('rcv1rcv2aminigoutte/EN/Index_EN-EN', 'svml_en_en.txt')\n",
    "X,  y = load_svmlight_file(file)"
   ]
  },
  {
   "cell_type": "markdown",
   "metadata": {},
   "source": [
    "#### Aplicando a seleção das features"
   ]
  },
  {
   "cell_type": "code",
   "execution_count": 5,
   "metadata": {},
   "outputs": [],
   "source": [
    "clf = ExtraTreesClassifier()\n",
    "clf = clf.fit(X, y)\n",
    "model = SelectFromModel(clf, prefit=True)\n",
    "X_new = model.transform(X)"
   ]
  },
  {
   "cell_type": "code",
   "execution_count": 6,
   "metadata": {},
   "outputs": [
    {
     "name": "stdout",
     "output_type": "stream",
     "text": [
      "Data matrix shape before feature selection: (18758, 21531)\n",
      "Data matrix shape after feature selection: (18758, 3028)\n"
     ]
    }
   ],
   "source": [
    "print('Data matrix shape before feature selection: ' + str(X.shape))\n",
    "print('Data matrix shape after feature selection: ' + str(X_new.shape))"
   ]
  },
  {
   "cell_type": "markdown",
   "metadata": {},
   "source": [
    "#### Dividindo o dataset\n",
    "O método *train_test_split* é bem útil para dividir os dados em partes que serão usados para o treino do modelo e os testes, que serão convenientes para avaliar o modelo. Os dados de treino estarão em *x_train* e *y_train*, e os dados de teste em *x_test* e *y_test*, sendo que 25% dos dados serão usados para os testes e os outros 75% para o treinamento."
   ]
  },
  {
   "cell_type": "code",
   "execution_count": 7,
   "metadata": {},
   "outputs": [],
   "source": [
    "X_train, X_test, y_train, y_test = train_test_split(\n",
    "    X_new,\n",
    "    y,\n",
    "    test_size=0.25,\n",
    "    random_state=42,\n",
    "    stratify=y\n",
    ")"
   ]
  },
  {
   "cell_type": "markdown",
   "metadata": {},
   "source": [
    "### Avaliando os Modelos\n",
    "**SVC** - Tem sua implementação baseada no *libsvm*, que é um software integrado para suporte de vetores de classificação, regressão e estimativa de distribuição, além de suportar classificação de multi-classes. O grande problema dele sua complexidade, que por ser maior que o quadrado das amostras, torna ele plausível para pouco mais de 10000 amostras "
   ]
  },
  {
   "cell_type": "code",
   "execution_count": 8,
   "metadata": {},
   "outputs": [],
   "source": [
    "def plot_confusion_matrix(cm, classes,\n",
    "                          title='Confusion matrix',\n",
    "                          cmap=plt.cm.Blues):\n",
    "\n",
    "    plt.imshow(cm, interpolation='nearest', cmap=cmap)\n",
    "    plt.title(title)\n",
    "    plt.colorbar()\n",
    "    tick_marks = np.arange(len(classes))\n",
    "    plt.xticks(tick_marks, classes, rotation=45)\n",
    "    plt.yticks(tick_marks, classes)\n",
    "\n",
    "    thresh = cm.max() / 2.\n",
    "    for i, j in itertools.product(range(cm.shape[0]), range(cm.shape[1])):\n",
    "        plt.text(j, i, format(cm[i, j]),\n",
    "                 horizontalalignment=\"center\",\n",
    "                 color=\"white\" if cm[i, j] > thresh else \"black\")\n",
    "\n",
    "    plt.tight_layout()\n",
    "    plt.ylabel('True label')\n",
    "    plt.xlabel('Predicted label')"
   ]
  },
  {
   "cell_type": "code",
   "execution_count": 9,
   "metadata": {},
   "outputs": [],
   "source": [
    "svc = SVC()\n",
    "svc.fit(X_train, y_train)\n",
    "y_pred_SVC = svc.predict(X_test)"
   ]
  },
  {
   "cell_type": "code",
   "execution_count": 10,
   "metadata": {},
   "outputs": [],
   "source": [
    "class_as_number = [4587, 8745, 9625, 5656, 5745, 45845]\n",
    "confusion_SVC = confusion_matrix(y_test, y_pred_SVC, labels=class_as_number)"
   ]
  },
  {
   "cell_type": "code",
   "execution_count": 11,
   "metadata": {},
   "outputs": [
    {
     "data": {
      "image/png": "[encoded data removed]",
      "text/plain": [
       "<Figure size 432x288 with 2 Axes>"
      ]
     },
     "metadata": {},
     "output_type": "display_data"
    }
   ],
   "source": [
    "class_as_string = ['C15', 'CCAT', 'E21', 'ECAT', 'GCAT', 'M11']\n",
    "\n",
    "plt.figure() \n",
    "plot_confusion_matrix(confusion_SVC, classes=class_as_string)\n",
    "\n",
    "plt.show()"
   ]
  },
  {
   "cell_type": "code",
   "execution_count": 12,
   "metadata": {},
   "outputs": [
    {
     "name": "stdout",
     "output_type": "stream",
     "text": [
      "             precision    recall  f1-score   support\n",
      "\n",
      "        C15       0.94      0.92      0.93      1276\n",
      "       CCAT       0.78      0.87      0.82      1083\n",
      "        E21       0.92      0.78      0.84       308\n",
      "       ECAT       0.84      0.74      0.79       514\n",
      "       GCAT       0.89      0.92      0.91      1207\n",
      "        M11       0.95      0.87      0.91       302\n",
      "\n",
      "avg / total       0.88      0.88      0.88      4690\n",
      "\n"
     ]
    }
   ],
   "source": [
    "report_SVC = classification_report(y_test, y_pred_SVC, labels=class_as_number, target_names=class_as_string)\n",
    "print(report_SVC)"
   ]
  },
  {
   "cell_type": "markdown",
   "metadata": {},
   "source": [
    "**LinearSVC** - É similar ao SVC, porém ele é implementado nos termos do *liblinear*, que consegue ser mais eficiente que o *libsvm* para datasets muito grandes, com milhões de dados."
   ]
  },
  {
   "cell_type": "code",
   "execution_count": 14,
   "metadata": {},
   "outputs": [],
   "source": [
    "linear_SVC = LinearSVC(random_state=0)\n",
    "linear_SVC.fit(X_train, y_train)\n",
    "y_pred_linearSVC = linear_SVC.predict(X_test)"
   ]
  },
  {
   "cell_type": "code",
   "execution_count": 15,
   "metadata": {},
   "outputs": [],
   "source": [
    "confusion_linearSVC = confusion_matrix(y_test, y_pred_linearSVC, labels=class_as_number)"
   ]
  },
  {
   "cell_type": "code",
   "execution_count": 16,
   "metadata": {},
   "outputs": [
    {
     "data": {
      "image/png": "[encoded data removed]",
      "text/plain": [
       "<Figure size 432x288 with 2 Axes>"
      ]
     },
     "metadata": {},
     "output_type": "display_data"
    }
   ],
   "source": [
    "plt.figure() \n",
    "plot_confusion_matrix(confusion_linearSVC, classes=class_as_string)\n",
    "\n",
    "plt.show()"
   ]
  },
  {
   "cell_type": "code",
   "execution_count": 18,
   "metadata": {},
   "outputs": [
    {
     "name": "stdout",
     "output_type": "stream",
     "text": [
      "             precision    recall  f1-score   support\n",
      "\n",
      "        C15       0.89      0.90      0.90      1276\n",
      "       CCAT       0.76      0.74      0.75      1083\n",
      "        E21       0.75      0.75      0.75       308\n",
      "       ECAT       0.70      0.72      0.71       514\n",
      "       GCAT       0.87      0.88      0.88      1207\n",
      "        M11       0.84      0.85      0.85       302\n",
      "\n",
      "avg / total       0.82      0.83      0.82      4690\n",
      "\n"
     ]
    }
   ],
   "source": [
    "report_linearSVC = classification_report(y_test,\n",
    "                                         y_pred_linearSVC,\n",
    "                                         labels=class_as_number, \n",
    "                                         target_names=class_as_string)\n",
    "print(report_linearSVC)"
   ]
  },
  {
   "cell_type": "code",
   "execution_count": null,
   "metadata": {},
   "outputs": [],
   "source": []
  }
 ],
 "metadata": {
  "kernelspec": {
   "display_name": "Python 3",
   "language": "python",
   "name": "python3"
  },
  "language_info": {
   "codemirror_mode": {
    "name": "ipython",
    "version": 3
   },
   "file_extension": ".py",
   "mimetype": "text/x-python",
   "name": "python",
   "nbconvert_exporter": "python",
   "pygments_lexer": "ipython3",
   "version": "3.5.2"
  }
 },
 "nbformat": 4,
 "nbformat_minor": 2
}

{
 "cells": [
  {
   "cell_type": "code",
   "execution_count": 1,
   "metadata": {},
   "outputs": [],
   "source": [
    "import numpy as np\n",
    "import itertools\n",
    "import matplotlib.pyplot as plt\n",
    "from sklearn.datasets import load_svmlight_file\n",
    "from sklearn.ensemble import ExtraTreesClassifier\n",
    "from sklearn.feature_selection import SelectFromModel\n",
    "from sklearn.svm import SVC\n",
    "from sklearn.svm import LinearSVC\n",
    "from sklearn.model_selection import train_test_split\n",
    "from sklearn.metrics import confusion_matrix, classification_report, hamming_loss"
   ]
  },
  {
   "cell_type": "markdown",
   "metadata": {},
   "source": [
    "#### Categorias do Documento  \n",
    "Como explicado na documentação, os textos são divididos em algumas categorias. Para processar os dados, deve-se converter essas strings em números.  \n",
    "É importante lembrar que antes de executar o programa deve-se descompactar o arquivo *rcv1rcv2aminigoutte.tar.gz* na pasta do projeto. Isso criará a pasta *rcv1rcv2aminigoutte*, que contém os arquivos necessários para o problema."
   ]
  },
  {
   "cell_type": "code",
   "execution_count": 2,
   "metadata": {},
   "outputs": [],
   "source": [
    "categories = {'C15': 4587, 'CCAT': 8745, 'E21': 9625, 'ECAT': 5656, 'GCAT': 5745, 'M11': 45845}"
   ]
  },
  {
   "cell_type": "markdown",
   "metadata": {},
   "source": [
    "Esse método faz esse tratamento dos dados, substituindo as strings correspondentes as classes em seus respectivos números."
   ]
  },
  {
   "cell_type": "code",
   "execution_count": 3,
   "metadata": {},
   "outputs": [],
   "source": [
    "def filter_datas(file, target_file):\n",
    "    with open(file, 'r') as document_read:\n",
    "        with open(target_file, 'w') as document_write:\n",
    "            for line in document_read:\n",
    "                target = line.split(None, 1)[0]\n",
    "                line_to_write = '%s %s' % (categories[target], line[len(target)+1:len(line)])\n",
    "                document_write.write(line_to_write)\n",
    "        \n",
    "    return target_file"
   ]
  },
  {
   "cell_type": "markdown",
   "metadata": {},
   "source": [
    "#### Carregando o dataset no formato SVMLight"
   ]
  },
  {
   "cell_type": "code",
   "execution_count": 4,
   "metadata": {},
   "outputs": [],
   "source": [
    "file = filter_datas('rcv1rcv2aminigoutte/EN/Index_EN-EN', 'svml_en_en.txt')\n",
    "X,  y = load_svmlight_file(file)"
   ]
  },
  {
   "cell_type": "markdown",
   "metadata": {},
   "source": [
    "#### Aplicando a seleção das features"
   ]
  },
  {
   "cell_type": "code",
   "execution_count": 5,
   "metadata": {},
   "outputs": [],
   "source": [
    "clf = LinearSVC(C=0.01, penalty=\"l1\", dual=False)\n",
    "clf = clf.fit(X, y)\n",
    "model = SelectFromModel(clf, prefit=True)\n",
    "X_new = model.transform(X)"
   ]
  },
  {
   "cell_type": "code",
   "execution_count": 6,
   "metadata": {},
   "outputs": [
    {
     "name": "stdout",
     "output_type": "stream",
     "text": [
      "Data matrix shape before feature selection: (18758, 21531)\n",
      "Data matrix shape after feature selection: (18758, 2682)\n"
     ]
    }
   ],
   "source": [
    "print('Data matrix shape before feature selection: ' + str(X.shape))\n",
    "print('Data matrix shape after feature selection: ' + str(X_new.shape))"
   ]
  },
  {
   "cell_type": "markdown",
   "metadata": {},
   "source": [
    "## Avaliando os Modelos"
   ]
  },
  {
   "cell_type": "markdown",
   "metadata": {},
   "source": [
    "#### Dividindo o dataset\n",
    "O método *train_test_split* é bem útil para dividir os dados em partes que serão usados para o treino do modelo e os testes, que serão convenientes para avaliar o modelo. Os dados de treino estarão em *x_train* e *y_train*, e os dados de teste em *x_test* e *y_test*, sendo que 25% dos dados serão usados para os testes e os outros 75% para o treinamento."
   ]
  },
  {
   "cell_type": "code",
   "execution_count": 7,
   "metadata": {},
   "outputs": [],
   "source": [
    "X_train, X_test, y_train, y_test = train_test_split(\n",
    "    X_new,\n",
    "    y,\n",
    "    test_size=0.25,\n",
    "    random_state=42,\n",
    "    stratify=y\n",
    ")"
   ]
  },
  {
   "cell_type": "code",
   "execution_count": 8,
   "metadata": {},
   "outputs": [],
   "source": [
    "def plot_confusion_matrix(cm, classes,\n",
    "                          title='Confusion matrix',\n",
    "                          cmap=plt.cm.Blues):\n",
    "\n",
    "    plt.imshow(cm, interpolation='nearest', cmap=cmap)\n",
    "    plt.title(title)\n",
    "    plt.colorbar()\n",
    "    tick_marks = np.arange(len(classes))\n",
    "    plt.xticks(tick_marks, classes, rotation=45)\n",
    "    plt.yticks(tick_marks, classes)\n",
    "\n",
    "    thresh = cm.max() / 2.\n",
    "    for i, j in itertools.product(range(cm.shape[0]), range(cm.shape[1])):\n",
    "        plt.text(j, i, format(cm[i, j]),\n",
    "                 horizontalalignment=\"center\",\n",
    "                 color=\"white\" if cm[i, j] > thresh else \"black\")\n",
    "\n",
    "    plt.tight_layout()\n",
    "    plt.ylabel('True label')\n",
    "    plt.xlabel('Predicted label')"
   ]
  },
  {
   "cell_type": "markdown",
   "metadata": {},
   "source": [
    "### Treinando o modelo\n",
    "O treino dos dados é feito pelo método *fit*, e após isso é utilizado o método *predict* para fazer a predição do modelo. Nesse caso também está sendo aferido o tempo de execução do algoritmo para ser comparado entre os dois classificadores que foram utilizados."
   ]
  },
  {
   "cell_type": "markdown",
   "metadata": {},
   "source": [
    "**SVC** - Tem sua implementação baseada no *libsvm*, que é um software integrado para suporte de vetores de classificação, regressão e estimativa de distribuição, além de suportar classificação de multi-classes. O grande problema dele sua complexidade, que por ser maior que o quadrado das amostras, torna ele plausível para pouco mais de 10000 amostras "
   ]
  },
  {
   "cell_type": "code",
   "execution_count": 9,
   "metadata": {},
   "outputs": [
    {
     "name": "stdout",
     "output_type": "stream",
     "text": [
      "CPU times: user 1min 56s, sys: 296 ms, total: 1min 56s\n",
      "Wall time: 1min 56s\n"
     ]
    }
   ],
   "source": [
    "%%time\n",
    "svc = SVC()\n",
    "svc.fit(X_train, y_train)\n",
    "y_pred_SVC = svc.predict(X_test)"
   ]
  },
  {
   "cell_type": "markdown",
   "metadata": {},
   "source": [
    "#### Matriz de confusão\n",
    "A matriz de confusão (ou matriz de erro) é bastante utilizada em problemas de classificação, pois permite vizualizar a performance do algoritmo. Para isso, são utilizadas as observações previstas em um grupo conhecido *i*, mas que foram previstos em um grupo *j*, ou seja, relaciona os valores reais com os previstos pelo classificador."
   ]
  },
  {
   "cell_type": "code",
   "execution_count": 10,
   "metadata": {},
   "outputs": [],
   "source": [
    "class_as_number = [4587, 8745, 9625, 5656, 5745, 45845]\n",
    "confusion_SVC = confusion_matrix(y_test, y_pred_SVC, labels=class_as_number)"
   ]
  },
  {
   "cell_type": "code",
   "execution_count": 11,
   "metadata": {},
   "outputs": [
    {
     "data": {
      "image/png": "[encoded data removed]",
      "text/plain": [
       "<Figure size 432x288 with 2 Axes>"
      ]
     },
     "metadata": {},
     "output_type": "display_data"
    }
   ],
   "source": [
    "class_as_string = ['C15', 'CCAT', 'E21', 'ECAT', 'GCAT', 'M11']\n",
    "\n",
    "plt.figure() \n",
    "plot_confusion_matrix(confusion_SVC, classes=class_as_string)\n",
    "\n",
    "plt.show()"
   ]
  },
  {
   "cell_type": "markdown",
   "metadata": {},
   "source": [
    "Observando a matriz de confusão pode-se ver que a maioria das classes foi classificada, em sua maior parte, corretamente pelo *SVC*, de acordo com a observação da diagonal principal da matriz. Também é possível inferir que a classe que deu mais predições erradas foi a *CCAT*, presente na coluna 2."
   ]
  },
  {
   "cell_type": "markdown",
   "metadata": {},
   "source": [
    "#### Relatório de classificação\n",
    "Provê algumas métricas também sobre a performance do algoritmo, que são:\n",
    "- *Precisão*: busca relacionar, de todas as predições que foram classificadas como sendo de determinada classe, quais realmente eram. Ĺogo, sua fórmula é o quociente entre as predições corretas sobre a soma das predições corretas e as .\n",
    "- *Recall*: é a frequência em que uma classe é classificada, porém quantas vezes ela foi classificada  corretamente. Assim, sua fórmula é o quociente entre as predições corretas de uma classe *x* sobre a soma entre as predições corretas da classe *x* e as predições de outras classes que preveram erroneamente a classe *x*.\n",
    "- *F1 Score*: combina a precisão e o recall, gerando uma métrica que indica a qualidade geral do modelo. Sua fórmula é o quociente do dobro do produto da precisão e do recall sobre a soma da precisão e do recall."
   ]
  },
  {
   "cell_type": "code",
   "execution_count": 12,
   "metadata": {},
   "outputs": [
    {
     "name": "stdout",
     "output_type": "stream",
     "text": [
      "             precision    recall  f1-score   support\n",
      "\n",
      "        C15       0.95      0.92      0.94      1276\n",
      "       CCAT       0.81      0.89      0.85      1083\n",
      "        E21       0.93      0.80      0.86       308\n",
      "       ECAT       0.84      0.78      0.81       514\n",
      "       GCAT       0.91      0.93      0.92      1207\n",
      "        M11       0.96      0.89      0.92       302\n",
      "\n",
      "avg / total       0.89      0.89      0.89      4690\n",
      "\n"
     ]
    }
   ],
   "source": [
    "report_SVC = classification_report(y_test, y_pred_SVC, labels=class_as_number, target_names=class_as_string)\n",
    "print(report_SVC)"
   ]
  },
  {
   "cell_type": "markdown",
   "metadata": {},
   "source": [
    "A precisão ficou aceitável, visto que a maioria ultrapassa os 90%, salvo o *GCAT* e o *CCAT*, este que, de acordo com a matriz de confusão foi a classe que visivelmente teve mais predições erradas, refletindo assim em uma precisão mais baixa.  \n",
    "O *recall* acompanhou a precisão alta, sendo que em algumas classes aumentou e em outras diminui em relação à precisão. Isso acontece devido a dificuldade de equilibrar uma boa precisão com um bom *recall*, pois quanto mais rigoroso o modelo é para acertar, menos ele estará disposto a errar.  \n",
    "Como a precisão e o *recall* ficaram aceitáveis, é natural que o *F1 score* também fique alto."
   ]
  },
  {
   "cell_type": "markdown",
   "metadata": {},
   "source": [
    "#### Perda de Hamming\n",
    "Computa a porcentagem de média de erro do modelo, ou seja, os dados que foram classificados de maneira incorreta, sendo assim sua fórmula seria o quociente das previsões incoretas sobre todas as previsões."
   ]
  },
  {
   "cell_type": "code",
   "execution_count": 25,
   "metadata": {},
   "outputs": [
    {
     "name": "stdout",
     "output_type": "stream",
     "text": [
      "Hamming Loss = 10.746269%\n"
     ]
    }
   ],
   "source": [
    "hammig_loss_svc = hamming_loss(y_test, y_pred_SVC) * 100\n",
    "print(\"Hamming Loss = %f\" % hammig_loss_svc + \"%\")"
   ]
  },
  {
   "cell_type": "markdown",
   "metadata": {},
   "source": [
    "Para esse modelo, em cerca de 10% dos testes ele realizou alguma predição errada."
   ]
  },
  {
   "cell_type": "markdown",
   "metadata": {},
   "source": [
    "**LinearSVC** - É similar ao SVC, porém ele é implementado nos termos do *liblinear*, que consegue ser mais eficiente que o *libsvm* para datasets muito grandes, com milhões de dados."
   ]
  },
  {
   "cell_type": "code",
   "execution_count": 14,
   "metadata": {},
   "outputs": [
    {
     "name": "stdout",
     "output_type": "stream",
     "text": [
      "CPU times: user 4.24 s, sys: 67 µs, total: 4.24 s\n",
      "Wall time: 4.24 s\n"
     ]
    }
   ],
   "source": [
    "%%time\n",
    "linear_SVC = LinearSVC(random_state=0)\n",
    "linear_SVC.fit(X_train, y_train)\n",
    "y_pred_linearSVC = linear_SVC.predict(X_test)"
   ]
  },
  {
   "cell_type": "markdown",
   "metadata": {},
   "source": [
    "Um dos problemas do classificador *SVC* é que a complexidade dele é muito alta, o que pode ser resolvido usando o *LinearSVC*. Comparando o tempo de execução, vemos que o *LinearSVC* é cerca de 4 a 5 vezes mais rápido que o *SVC*. "
   ]
  },
  {
   "cell_type": "markdown",
   "metadata": {},
   "source": [
    "#### Matriz de confusão"
   ]
  },
  {
   "cell_type": "code",
   "execution_count": 15,
   "metadata": {},
   "outputs": [],
   "source": [
    "confusion_linearSVC = confusion_matrix(y_test, y_pred_linearSVC, labels=class_as_number)"
   ]
  },
  {
   "cell_type": "code",
   "execution_count": 16,
   "metadata": {},
   "outputs": [
    {
     "data": {
      "image/png": "[encoded data removed]",
      "text/plain": [
       "<Figure size 432x288 with 2 Axes>"
      ]
     },
     "metadata": {},
     "output_type": "display_data"
    }
   ],
   "source": [
    "plt.figure() \n",
    "plot_confusion_matrix(confusion_linearSVC, classes=class_as_string)\n",
    "\n",
    "plt.show()"
   ]
  },
  {
   "cell_type": "markdown",
   "metadata": {},
   "source": [
    "Vizualmente, é possível perceber que o *LinearSVC* fez mais predições erradas que o *SVC*."
   ]
  },
  {
   "cell_type": "markdown",
   "metadata": {},
   "source": [
    "#### Relatório de classificação"
   ]
  },
  {
   "cell_type": "code",
   "execution_count": 17,
   "metadata": {},
   "outputs": [
    {
     "name": "stdout",
     "output_type": "stream",
     "text": [
      "             precision    recall  f1-score   support\n",
      "\n",
      "        C15       0.91      0.91      0.91      1276\n",
      "       CCAT       0.81      0.78      0.79      1083\n",
      "        E21       0.78      0.79      0.79       308\n",
      "       ECAT       0.75      0.76      0.76       514\n",
      "       GCAT       0.90      0.91      0.90      1207\n",
      "        M11       0.86      0.86      0.86       302\n",
      "\n",
      "avg / total       0.85      0.85      0.85      4690\n",
      "\n"
     ]
    }
   ],
   "source": [
    "report_linearSVC = classification_report(y_test,\n",
    "                                         y_pred_linearSVC,\n",
    "                                         labels=class_as_number, \n",
    "                                         target_names=class_as_string)\n",
    "print(report_linearSVC)"
   ]
  },
  {
   "cell_type": "markdown",
   "metadata": {},
   "source": [
    "Observando a precisão, pode-se constatar o que está presente na matriz de confusão, sendo que a precisão em todas as classes diminuiu. Tanto o *recall*  e o *F1 Score* seguiram essa tendência.  \n",
    "Com essas informações, podemos ver que o ganho de performance acarretou em uma perda ligeira de qualidade do modelo."
   ]
  },
  {
   "cell_type": "markdown",
   "metadata": {},
   "source": [
    "#### Perda de Hamming"
   ]
  },
  {
   "cell_type": "code",
   "execution_count": 24,
   "metadata": {},
   "outputs": [
    {
     "name": "stdout",
     "output_type": "stream",
     "text": [
      "Hamming Loss = 14.776119%\n"
     ]
    }
   ],
   "source": [
    "hammig_loss_linear_svc = hamming_loss(y_test, y_pred_linearSVC) * 100\n",
    "print(\"Hamming Loss = %f\" % hammig_loss_linear_svc + \"%\")"
   ]
  },
  {
   "cell_type": "markdown",
   "metadata": {},
   "source": [
    "A porcentagem de erro desse modelo em comparação com o que foi feito no *SVC* foi ligeiramente maior, com um aumento de erro de cerca de 4 pontos percentuais."
   ]
  }
 ],
 "metadata": {
  "kernelspec": {
   "display_name": "Python 3",
   "language": "python",
   "name": "python3"
  },
  "language_info": {
   "codemirror_mode": {
    "name": "ipython",
    "version": 3
   },
   "file_extension": ".py",
   "mimetype": "text/x-python",
   "name": "python",
   "nbconvert_exporter": "python",
   "pygments_lexer": "ipython3",
   "version": "3.5.2"
  }
 },
 "nbformat": 4,
 "nbformat_minor": 2
}

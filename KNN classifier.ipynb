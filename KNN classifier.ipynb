{
 "cells": [
  {
   "cell_type": "code",
   "execution_count": 1,
   "metadata": {},
   "outputs": [],
   "source": [
    "import numpy as np\n",
    "from sklearn.datasets import load_svmlight_file\n",
    "\n",
    "# ==============================================================================\n",
    "# You must have to unconpress the rcv1rcv2aminigoutte.tar.gz to create\n",
    "# rcv1rcv2aminigoutte path with the files\n",
    "#===============================================================================\n",
    "\n",
    "# Categories of documents\n",
    "categories = {'C15': 4587, 'CCAT': 8745, 'E21': 9625, 'ECAT': 5656, 'GCAT': 8745, 'M11': 45845}\n",
    "\n",
    "# Convert target from string float target in file \n",
    "def filter_datas(file, target_file):\n",
    "    with open(file, 'r') as document_read:\n",
    "        with open(target_file, 'w') as document_write:\n",
    "            for line in document_read:\n",
    "                target = line.split(None, 1)[0]\n",
    "                line_to_write = '%s %s' % (categories[target], line[len(target)+1:len(line)])\n",
    "                document_write.write(line_to_write)\n",
    "        \n",
    "    return target_file\n",
    "\n",
    "# Loading datasets in svmlight format.\n",
    "file = filter_datas('rcv1rcv2aminigoutte/EN/Index_EN-EN', 'svml_en_en.txt')\n",
    "X,  y = load_svmlight_file(file)"
   ]
  },
  {
   "cell_type": "code",
   "execution_count": 2,
   "metadata": {},
   "outputs": [
    {
     "name": "stdout",
     "output_type": "stream",
     "text": [
      "Data matrix shape before feature selection: (18758, 21531)\n",
      "Data matrix shape after feature selection: (18758, 3008)\n"
     ]
    }
   ],
   "source": [
    "from sklearn.neighbors import KNeighborsClassifier\n",
    "from sklearn.model_selection import train_test_split\n",
    "from sklearn.ensemble import ExtraTreesClassifier\n",
    "from sklearn.feature_selection import SelectFromModel\n",
    "\n",
    "# ==============================================================================\n",
    "# Applying feature selection\n",
    "# ==============================================================================\n",
    "clf = ExtraTreesClassifier()\n",
    "clf = clf.fit(X, y)\n",
    "model = SelectFromModel(clf, prefit=True)\n",
    "X_new = model.transform(X)\n",
    "print('Data matrix shape before feature selection: ' + str(X.shape))\n",
    "print('Data matrix shape after feature selection: ' + str(X_new.shape))"
   ]
  },
  {
   "cell_type": "code",
   "execution_count": 3,
   "metadata": {},
   "outputs": [
    {
     "name": "stdout",
     "output_type": "stream",
     "text": [
      "Splitting dataset to train and test....\n"
     ]
    }
   ],
   "source": [
    "# ==============================================================================\n",
    "# Splitting datasets\n",
    "# ==============================================================================\n",
    "print('Splitting dataset to train and test....')\n",
    "X_train, X_test, y_train, y_test = train_test_split(\n",
    "    X_new,\n",
    "    y,\n",
    "    test_size=0.25,\n",
    "    random_state=42,\n",
    "    stratify=y\n",
    ")"
   ]
  },
  {
   "cell_type": "code",
   "execution_count": 4,
   "metadata": {},
   "outputs": [
    {
     "name": "stdout",
     "output_type": "stream",
     "text": [
      "Finding the best k for number of neighbors...\n",
      "For K = 1.....\n",
      "Fitting KNN classifier....\n",
      "Getting scores....\n",
      "Score for k = 1: 0.7628997867803838\n",
      "For K = 2.....\n",
      "Fitting KNN classifier....\n",
      "Getting scores....\n",
      "Score for k = 2: 0.7528784648187633\n",
      "For K = 3.....\n",
      "Fitting KNN classifier....\n",
      "Getting scores....\n",
      "Score for k = 3: 0.7200426439232409\n",
      "For K = 4.....\n",
      "Fitting KNN classifier....\n",
      "Getting scores....\n",
      "Score for k = 4: 0.7191897654584222\n",
      "For K = 5.....\n",
      "Fitting KNN classifier....\n",
      "Getting scores....\n",
      "Score for k = 5: 0.7017057569296375\n",
      "For K = 6.....\n",
      "Fitting KNN classifier....\n",
      "Getting scores....\n",
      "Score for k = 6: 0.6997867803837953\n",
      "For K = 7.....\n",
      "Fitting KNN classifier....\n",
      "Getting scores....\n",
      "Score for k = 7: 0.691044776119403\n",
      "For K = 8.....\n",
      "Fitting KNN classifier....\n",
      "Getting scores....\n",
      "Score for k = 8: 0.6993603411513859\n",
      "For K = 9.....\n",
      "Fitting KNN classifier....\n",
      "Getting scores....\n",
      "Score for k = 9: 0.6895522388059702\n",
      "For K = 10.....\n",
      "Fitting KNN classifier....\n",
      "Getting scores....\n",
      "Score for k = 10: 0.6957356076759061\n"
     ]
    }
   ],
   "source": [
    "# ==============================================================================\n",
    "# Finding the best K\n",
    "# ==============================================================================\n",
    "print('Finding the best k for number of neighbors...')\n",
    "k_scores = []\n",
    "for k in range(1, 11):\n",
    "    print('For K = ' + str(k) + '.....')\n",
    "    print('Fitting KNN classifier....')\n",
    "    knn = KNeighborsClassifier(n_neighbors=k)\n",
    "    knn.fit(X_train, y_train)\n",
    "\n",
    "    # ==============================================================================\n",
    "    # Getting \"model\" accuracy.\n",
    "    # \"model\" because KNN doesn't explicity learn a model. This classifier chooses\n",
    "    # to memorizes the training instances which are subsequently used as \"knowledge\"\n",
    "    # on prediction phase (instance-based learning algorithm)\n",
    "    # ==============================================================================\n",
    "    print('Getting scores....')\n",
    "    knn_score = knn.score(X_test, y_test)\n",
    "    print('Score for k = ' + str(k) + ': ' + str(knn_score))\n",
    "    k_scores.append(knn_score)"
   ]
  },
  {
   "cell_type": "code",
   "execution_count": null,
   "metadata": {},
   "outputs": [],
   "source": [
    "np_k_scores = np.asarray(k_scores)\n",
    "best_k = np.argmax(np_k_scores) + 1\n",
    "print('Best k to KNN Classifier: ' + str(best_k))\n",
    "knn = KNeighborsClassifier(n_neighbors=best_k)\n",
    "knn.fit(X_train, y_train)\n",
    "print('Getting scores....')\n",
    "y_pred = knn.predict(X_test)\n",
    "\n",
    "from sklearn.metrics import confusion_matrix\n",
    "from sklearn.metrics import classification_report\n",
    "\n",
    "print('Getting classification report....')\n",
    "confusion = confusion_matrix(y_test, y_pred)\n",
    "print(confusion)\n",
    "report = classification_report(y_test, y_pred)\n",
    "print(report)"
   ]
  }
 ],
 "metadata": {
  "kernelspec": {
   "display_name": "Python 3",
   "language": "python",
   "name": "python3"
  },
  "language_info": {
   "codemirror_mode": {
    "name": "ipython",
    "version": 3
   },
   "file_extension": ".py",
   "mimetype": "text/x-python",
   "name": "python",
   "nbconvert_exporter": "python",
   "pygments_lexer": "ipython3",
   "version": "3.5.2"
  }
 },
 "nbformat": 4,
 "nbformat_minor": 2
}

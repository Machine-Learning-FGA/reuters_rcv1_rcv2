{
 "cells": [
  {
   "cell_type": "markdown",
   "metadata": {},
   "source": [
    "# Problema\n",
    "\n",
    "## Introdução\n",
    "\n",
    "O [Reuters](https://www.reuters.com/) é uma agência de notícias britânica mundialmente conhecida por conta do seu conteúdo diversificado e qualidade das postagens. Por possuir uma diversidade muito grande, o Reuters disponibilizou mundialmente um *dataset* contendo mais de 800 mil documentos manualmente categorizados para fins de pesquisa, para o insentivo no aprendizado de máquina e classificação de linguagem natural utilizando mecanismos de *Machine Learning*.\n",
    "\n",
    "## Problemática\n",
    "\n",
    "A problemática do [Reuters RCV1 RCV2 Multilingual, Multiview Text Categorization Test collection Data Set ](https://archive.ics.uci.edu/ml/datasets/Reuters+RCV1+RCV2+Multilingual,+Multiview+Text+Categorization+Test+collection) consiste em realizar a identificação da classe dos documentos dispostos do *Reuters Corpus, Volume 1* que são publicações em Inglês e do *Reuters Corpus, Volume 2* publicados em outras quatro linguas, sendo elas Francês, Alemão, Espanhol e Italiano, totalizando cinto linguas diferentes dos mesmos documentos. Dentro das diversas 134 classes conhecidas das postagens do *Reuters*, o *dataset* possui seis classes selecionadas. São elas: PERFORMANCE, CORPORATE/INDUSTRIAL, GOVERNMENT FINANCE, ECONOMICS, GOVERNMENT/SOCIAL, EQUITY MARKETS.\n",
    "\n",
    "## Disponibilização dos dados\n",
    "\n",
    "Os dados foram disponibilizados no formato parecido com o SVM *light*. Cada linha dos arquivos de dados consiste em um tipo de documento, disponibilizado da maneira:\n",
    "```\n",
    "class feature:value feature:value feature:value ... feature:value\n",
    "```\n",
    "* *Class*: é a categoria do documento, disposta no formato de string;\n",
    "* *Feature*: é uma palavra disposta no texto;\n",
    "* *Value*: é o peso dessa palavra dentro da identificação da classe.\n",
    "\n",
    "Os dados de feature:value são ordenados de acordo com seu peso dentro de cada registro."
   ]
  },
  {
   "cell_type": "code",
   "execution_count": 27,
   "metadata": {},
   "outputs": [],
   "source": [
    "import numpy as np\n",
    "import itertools\n",
    "import matplotlib.pyplot as plt\n",
    "from sklearn.datasets import load_svmlight_file\n",
    "from sklearn.ensemble import ExtraTreesClassifier\n",
    "from sklearn.feature_selection import SelectFromModel\n",
    "from sklearn.neighbors import KNeighborsClassifier\n",
    "from sklearn.model_selection import train_test_split\n",
    "from sklearn.metrics import confusion_matrix\n",
    "from sklearn.metrics import classification_report"
   ]
  },
  {
   "cell_type": "markdown",
   "metadata": {},
   "source": [
    "## Categorias do Documento  \n",
    "Como explicado anteriormente, os textos são divididos em algumas categorias. Para processar os dados, deve-se converter essas strings em números.\n",
    "É importante lembrar que antes de executar o programa deve-se descompactar o arquivo *rcv1rcv2aminigoutte.tar.gz* na pasta do projeto. Isso criará a pasta *rcv1rcv2aminigoutte*, que contém os arquivos necessários para o problema."
   ]
  },
  {
   "cell_type": "code",
   "execution_count": 28,
   "metadata": {},
   "outputs": [],
   "source": [
    "categories = {'C15': 4587, 'CCAT': 8745, 'E21': 9625, 'ECAT': 5656, 'GCAT': 5745, 'M11': 45845}"
   ]
  },
  {
   "cell_type": "markdown",
   "metadata": {},
   "source": [
    "É necessário realizar um breve tratamento de dados para a permitir realizar a importação dos dados no formato SML Light. Para isso, criou-se o método abaixo que realiza a substituição das strings correspondentes às classes em seus respectivos números."
   ]
  },
  {
   "cell_type": "code",
   "execution_count": 29,
   "metadata": {},
   "outputs": [],
   "source": [
    "def filter_datas(file, target_file):\n",
    "    with open(file, 'r') as document_read:\n",
    "        with open(target_file, 'w') as document_write:\n",
    "            for line in document_read:\n",
    "                target = line.split(None, 1)[0]\n",
    "                line_to_write = '%s %s' % (categories[target], line[len(target)+1:len(line)])\n",
    "                document_write.write(line_to_write)\n",
    "        \n",
    "    return target_file"
   ]
  },
  {
   "cell_type": "markdown",
   "metadata": {},
   "source": [
    "## Carregando o dataset no formato SVMLight"
   ]
  },
  {
   "cell_type": "code",
   "execution_count": 30,
   "metadata": {},
   "outputs": [],
   "source": [
    "file = filter_datas('rcv1rcv2aminigoutte/EN/Index_EN-EN', 'svml_en_en.txt')\n",
    "X,  y = load_svmlight_file(file)"
   ]
  },
  {
   "cell_type": "markdown",
   "metadata": {},
   "source": [
    "## Aplicando a seleção das features\n",
    "\n",
    "Dentro dos problemas que envolvem classificação, uma das partes mais importantes para obtenção de melhores resultados se dá na filtragem e identificação da relevância entre as demais características dos dados. Para isso, existem os métodos de *feature selection* que conseguem, a partir de cálculos matemáticos, identificar quais dessas características de fato são relevantes para a correta categorização ou classificação, aumentando assim a assertividade dos modelos. \n",
    "\n",
    "### Feature selection utilizado\n",
    "\n",
    "Dentro dos diversos métodos de *feature selection*, foram testados os métodos utilizando o LinearSVC e o ExtraTreesClassifier, ambos em conjunto com o SelectFromModel, que é um modelo que remove as *features* identificadas como não importantes à partir de pesos de coeficientes ou *feature_importances*. Em todos os testes, o modelo utilizando o LinearSVC conseguiu reduzir consideravelmente mais *features* do que o ExtraTreesClassifier, e por isso foi o utilizado."
   ]
  },
  {
   "cell_type": "code",
   "execution_count": 31,
   "metadata": {},
   "outputs": [
    {
     "name": "stdout",
     "output_type": "stream",
     "text": [
      "Data matrix shape before feature selection: (18758, 21531)\n",
      "Data matrix shape after ExtraTreesClassifier feature selection: (18758, 3034)\n",
      "Data matrix shape after LinearSVC feature selection: (18758, 2683)\n"
     ]
    }
   ],
   "source": [
    "clf = ExtraTreesClassifier()\n",
    "clf = clf.fit(X, y)\n",
    "model = SelectFromModel(clf, prefit=True)\n",
    "Trees_X_new = model.transform(X)\n",
    "\n",
    "from sklearn.svm import LinearSVC\n",
    "\n",
    "lsvc = LinearSVC(C=0.01, penalty=\"l1\", dual=False).fit(X, y)\n",
    "model = SelectFromModel(lsvc, prefit=True)\n",
    "Linear_X_new = model.transform(X)\n",
    "\n",
    "print('Data matrix shape before feature selection: ' + str(X.shape))\n",
    "print('Data matrix shape after ExtraTreesClassifier feature selection: ' + str(Trees_X_new.shape))\n",
    "print('Data matrix shape after LinearSVC feature selection: ' + str(Linear_X_new.shape))\n",
    "X_new = Linear_X_new"
   ]
  },
  {
   "cell_type": "markdown",
   "metadata": {},
   "source": [
    "## Dividindo o dataset\n",
    "O método *train_test_split* é bem útil para dividir os dados em partes que serão usados para o treino do modelo e os testes, que serão convenientes para avaliar o modelo. Os dados de treino estarão em *x_train* e *y_train*, e os dados de teste em *x_test* e *y_test*, sendo que 25% dos dados serão usados para os testes e os outros 75% para o treinamento."
   ]
  },
  {
   "cell_type": "code",
   "execution_count": 32,
   "metadata": {},
   "outputs": [],
   "source": [
    "X_train, X_test, y_train, y_test = train_test_split(\n",
    "    X_new,\n",
    "    y,\n",
    "    test_size=0.25,\n",
    "    random_state=42,\n",
    "    stratify=y\n",
    ")"
   ]
  },
  {
   "cell_type": "markdown",
   "metadata": {},
   "source": [
    "## Métodos de Classificação\n",
    "\n",
    "### Encontrando um bom k\n",
    "Um dos parâmetros mais importantes no algoritmo do *KNeighborsClassifier* é o *k*, que significa quantos \"vizinhos\" mais próximos serão considerados para classificar um dado de teste. Por exemplo, se *k = 3*, serão analizadas as três classes vizinhas mais próximos, sendo que aquela que for mais comum irá classificar esse dado."
   ]
  },
  {
   "cell_type": "code",
   "execution_count": 22,
   "metadata": {},
   "outputs": [
    {
     "name": "stdout",
     "output_type": "stream",
     "text": [
      "Score for k = 1: 0.6501066098081023\n",
      "Score for k = 2: 0.588272921108742\n",
      "Score for k = 3: 0.602771855010661\n",
      "Score for k = 4: 0.5912579957356077\n",
      "Score for k = 5: 0.5837953091684435\n",
      "Score for k = 6: 0.5739872068230277\n",
      "Score for k = 7: 0.5680170575692963\n",
      "Score for k = 8: 0.5729211087420043\n",
      "Score for k = 9: 0.5750533049040512\n",
      "Score for k = 10: 0.5765458422174841\n"
     ]
    }
   ],
   "source": [
    "k_scores = []\n",
    "\n",
    "for k in range(1, 11):\n",
    "    knn = KNeighborsClassifier(n_neighbors=k)\n",
    "    knn.fit(X_train, y_train)\n",
    "\n",
    "    knn_score = knn.score(X_test, y_test)\n",
    "    print('Score for k = ' + str(k) + ': ' + str(knn_score))\n",
    "    \n",
    "    k_scores.append(knn_score)"
   ]
  },
  {
   "cell_type": "markdown",
   "metadata": {},
   "source": [
    "Para encontrar um bom *k*, foram feitos 10 testes, com *k* variando de 1 até 10. O modelo é testado a cada iteração e a acurácia é aferida. O maior resultado desses testes é um forte candidato para a escolha do *k*."
   ]
  },
  {
   "cell_type": "code",
   "execution_count": 9,
   "metadata": {},
   "outputs": [
    {
     "name": "stdout",
     "output_type": "stream",
     "text": [
      "Best k to KNN Classifier: 1\n"
     ]
    }
   ],
   "source": [
    "np_k_scores = np.asarray(k_scores)\n",
    "best_k = np.argmax(np_k_scores) + 1\n",
    "print('Best k to KNN Classifier: ' + str(best_k))"
   ]
  },
  {
   "cell_type": "markdown",
   "metadata": {},
   "source": [
    "### Avaliando o modelo\n",
    "O modelo é criado utilizando o *k* que foi encontrado acima.  \n",
    "Os dados de treino são usados para treinar o modelo através do método *fit*, enquanto os dados de teste são usados no método *predict* para testar o modelo."
   ]
  },
  {
   "cell_type": "code",
   "execution_count": 10,
   "metadata": {},
   "outputs": [],
   "source": [
    "knn = KNeighborsClassifier(n_neighbors=best_k)\n",
    "knn.fit(X_train, y_train)\n",
    "y_pred = knn.predict(X_test)"
   ]
  },
  {
   "cell_type": "markdown",
   "metadata": {},
   "source": [
    "#### Matriz de confusão\n",
    "A matriz de confusão nos mostra os números de observações previstas em um grupo conhecido *i*, mas que foram previstos em um grupo *j*, ou seja, relaciona os valores reais com os previstos pelo classificador."
   ]
  },
  {
   "cell_type": "code",
   "execution_count": 11,
   "metadata": {},
   "outputs": [],
   "source": [
    "def plot_confusion_matrix(cm, classes,\n",
    "                          title='Confusion matrix',\n",
    "                          cmap=plt.cm.Blues):\n",
    "\n",
    "    plt.imshow(cm, interpolation='nearest', cmap=cmap)\n",
    "    plt.title(title)\n",
    "    plt.colorbar()\n",
    "    tick_marks = np.arange(len(classes))\n",
    "    plt.xticks(tick_marks, classes, rotation=45)\n",
    "    plt.yticks(tick_marks, classes)\n",
    "\n",
    "    thresh = cm.max() / 2.\n",
    "    for i, j in itertools.product(range(cm.shape[0]), range(cm.shape[1])):\n",
    "        plt.text(j, i, format(cm[i, j]),\n",
    "                 horizontalalignment=\"center\",\n",
    "                 color=\"white\" if cm[i, j] > thresh else \"black\")\n",
    "\n",
    "    plt.tight_layout()\n",
    "    plt.ylabel('True label')\n",
    "    plt.xlabel('Predicted label')"
   ]
  },
  {
   "cell_type": "code",
   "execution_count": 12,
   "metadata": {},
   "outputs": [],
   "source": [
    "class_as_number = [4587, 8745, 9625, 5656, 5745, 45845]\n",
    "confusion = confusion_matrix(y_test, y_pred, labels=class_as_number)"
   ]
  },
  {
   "cell_type": "code",
   "execution_count": 13,
   "metadata": {},
   "outputs": [
    {
     "data": {
      "image/png": "[encoded data removed]",
      "text/plain": [
       "<Figure size 432x288 with 2 Axes>"
      ]
     },
     "metadata": {},
     "output_type": "display_data"
    }
   ],
   "source": [
    "class_as_string = ['C15', 'CCAT', 'E21', 'ECAT', 'GCAT', 'M11']\n",
    "\n",
    "plt.figure() \n",
    "plot_confusion_matrix(confusion, classes=class_as_string)\n",
    "\n",
    "plt.show()"
   ]
  },
  {
   "cell_type": "markdown",
   "metadata": {},
   "source": [
    "#### Relatório de classificação"
   ]
  },
  {
   "cell_type": "code",
   "execution_count": 14,
   "metadata": {},
   "outputs": [
    {
     "name": "stdout",
     "output_type": "stream",
     "text": [
      "             precision    recall  f1-score   support\n",
      "\n",
      "        C15       0.93      0.76      0.84      1276\n",
      "       CCAT       0.81      0.27      0.41      1083\n",
      "        E21       0.89      0.52      0.66       308\n",
      "       ECAT       0.81      0.39      0.53       514\n",
      "       GCAT       0.42      0.96      0.59      1207\n",
      "        M11       0.91      0.35      0.51       302\n",
      "\n",
      "avg / total       0.75      0.62      0.61      4690\n",
      "\n"
     ]
    }
   ],
   "source": [
    "report = classification_report(y_test, y_pred, labels=class_as_number, target_names=class_as_string)\n",
    "print(report)"
   ]
  },
  {
   "cell_type": "markdown",
   "metadata": {},
   "source": [
    "### Modelo Random Forest\n",
    "\n",
    "Um outro modelo de classificador é o chamado Random Forest. Ele é um método que consiste em criar uma floresta de árvores de decisões e alimentá-las com *sub-samples* do *dataset*, as quais concorrerão entre si e se ajustarão para obterem os maiores valores médios de acurácia e evitar o over-fitting. \n",
    "\n",
    "![Random forest](../images/random_forest.jpg)\n"
   ]
  },
  {
   "cell_type": "code",
   "execution_count": 36,
   "metadata": {},
   "outputs": [],
   "source": [
    "from sklearn.ensemble import RandomForestClassifier\n",
    "\n",
    "rfc = RandomForestClassifier(n_estimators=500)\n",
    "rfc.fit(X_train, y_train)\n",
    "\n",
    "score = rfc.score(X_test, y_test)\n",
    "prediction = rfc.predict(X_test)"
   ]
  },
  {
   "cell_type": "code",
   "execution_count": 37,
   "metadata": {},
   "outputs": [
    {
     "name": "stdout",
     "output_type": "stream",
     "text": [
      "             precision    recall  f1-score   support\n",
      "\n",
      "        C15       0.93      0.92      0.93      1276\n",
      "       CCAT       0.76      0.85      0.80      1083\n",
      "        E21       0.91      0.69      0.79       308\n",
      "       ECAT       0.84      0.68      0.75       514\n",
      "       GCAT       0.86      0.92      0.89      1207\n",
      "        M11       0.95      0.86      0.90       302\n",
      "\n",
      "avg / total       0.86      0.86      0.86      4690\n",
      "\n"
     ]
    }
   ],
   "source": [
    "report = classification_report(y_test, prediction, labels=class_as_number, target_names=class_as_string)\n",
    "print(report)"
   ]
  }
 ],
 "metadata": {
  "kernelspec": {
   "display_name": "Python 3",
   "language": "python",
   "name": "python3"
  },
  "language_info": {
   "codemirror_mode": {
    "name": "ipython",
    "version": 3
   },
   "file_extension": ".py",
   "mimetype": "text/x-python",
   "name": "python",
   "nbconvert_exporter": "python",
   "pygments_lexer": "ipython3",
   "version": "3.6.5"
  }
 },
 "nbformat": 4,
 "nbformat_minor": 2
}

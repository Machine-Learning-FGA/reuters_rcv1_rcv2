{
 "cells": [
  {
   "cell_type": "code",
   "execution_count": 37,
   "metadata": {},
   "outputs": [],
   "source": [
    "import numpy as np\n",
    "from sklearn.datasets import load_svmlight_file\n",
    "from sklearn.ensemble import ExtraTreesClassifier\n",
    "from sklearn.feature_selection import SelectFromModel\n",
    "from sklearn.neighbors import KNeighborsClassifier\n",
    "from sklearn.model_selection import train_test_split\n",
    "from sklearn.metrics import confusion_matrix\n",
    "from sklearn.metrics import classification_report"
   ]
  },
  {
   "cell_type": "markdown",
   "metadata": {},
   "source": [
    "#### Categorias do Documento  \n",
    "Como explicado na documentação, os textos são divididos em algumas categorias. Para processar os dados, deve-se converter essas strings em números.  \n",
    "É importante lembrar que antes de executar o programa deve-se descompactar o arquivo *rcv1rcv2aminigoutte.tar.gz* na pasta do projeto. Isso criará a pasta *rcv1rcv2aminigoutte*, que contém os arquivos necessários para o problema."
   ]
  },
  {
   "cell_type": "code",
   "execution_count": 2,
   "metadata": {},
   "outputs": [],
   "source": [
    "categories = {'C15': 4587, 'CCAT': 8745, 'E21': 9625, 'ECAT': 5656, 'GCAT': 8745, 'M11': 45845}"
   ]
  },
  {
   "cell_type": "markdown",
   "metadata": {},
   "source": [
    "Esse método faz esse tratamento dos dados, substituindo as strings correspondentes as classes em seus respectivos números."
   ]
  },
  {
   "cell_type": "code",
   "execution_count": 3,
   "metadata": {},
   "outputs": [],
   "source": [
    "def filter_datas(file, target_file):\n",
    "    with open(file, 'r') as document_read:\n",
    "        with open(target_file, 'w') as document_write:\n",
    "            for line in document_read:\n",
    "                target = line.split(None, 1)[0]\n",
    "                line_to_write = '%s %s' % (categories[target], line[len(target)+1:len(line)])\n",
    "                document_write.write(line_to_write)\n",
    "        \n",
    "    return target_file"
   ]
  },
  {
   "cell_type": "markdown",
   "metadata": {},
   "source": [
    "#### Carregando o dataset no formato SVMLight"
   ]
  },
  {
   "cell_type": "code",
   "execution_count": 9,
   "metadata": {},
   "outputs": [],
   "source": [
    "file = filter_datas('rcv1rcv2aminigoutte/EN/Index_EN-EN', 'svml_en_en.txt')\n",
    "X,  y = load_svmlight_file(file)"
   ]
  },
  {
   "cell_type": "markdown",
   "metadata": {},
   "source": [
    "#### Aplicando a seleção das features"
   ]
  },
  {
   "cell_type": "code",
   "execution_count": 10,
   "metadata": {},
   "outputs": [],
   "source": [
    "clf = ExtraTreesClassifier()\n",
    "clf = clf.fit(X, y)\n",
    "model = SelectFromModel(clf, prefit=True)\n",
    "X_new = model.transform(X)"
   ]
  },
  {
   "cell_type": "code",
   "execution_count": 15,
   "metadata": {},
   "outputs": [
    {
     "name": "stdout",
     "output_type": "stream",
     "text": [
      "Data matrix shape before feature selection: (18758, 21531)\n",
      "Data matrix shape after feature selection: (18758, 2973)\n"
     ]
    }
   ],
   "source": [
    "print('Data matrix shape before feature selection: ' + str(X.shape))\n",
    "print('Data matrix shape after feature selection: ' + str(X_new.shape))"
   ]
  },
  {
   "cell_type": "markdown",
   "metadata": {},
   "source": [
    "#### Dividindo o dataset\n",
    "O método *train_test_split* é bem útil para dividir os dados em partes que serão usados para o treino do modelo e os testes, que serão convenientes para avaliar o modelo. Os dados de treino estarão em *x_train* e *y_train*, e os dados de teste em *x_test* e *y_test*, sendo que 25% dos dados serão usados para os testes e os outros 75% para o treinamento."
   ]
  },
  {
   "cell_type": "code",
   "execution_count": 16,
   "metadata": {},
   "outputs": [],
   "source": [
    "X_train, X_test, y_train, y_test = train_test_split(\n",
    "    X_new,\n",
    "    y,\n",
    "    test_size=0.25,\n",
    "    random_state=42,\n",
    "    stratify=y\n",
    ")"
   ]
  },
  {
   "cell_type": "markdown",
   "metadata": {},
   "source": [
    "#### Encontrando um bom k\n",
    "Um dos parâmetros mais importantes no algoritmo do *KNeighborsClassifier* é o *k*, que significa quantos \"vizinhos\" mais próximos serão considerados para classificar um dado de teste. Por exemplo, se *k = 3*, serão analizadas as três classes vizinhas mais próximos, sendo que aquela que for mais comum irá classificar esse dado."
   ]
  },
  {
   "cell_type": "code",
   "execution_count": 23,
   "metadata": {},
   "outputs": [
    {
     "name": "stdout",
     "output_type": "stream",
     "text": [
      "Score for k = 1: 0.7652452025586354\n",
      "Score for k = 2: 0.746908315565032\n",
      "Score for k = 3: 0.715138592750533\n",
      "Score for k = 4: 0.7100213219616205\n",
      "Score for k = 5: 0.694456289978678\n",
      "Score for k = 6: 0.7059701492537314\n",
      "Score for k = 7: 0.6985074626865672\n",
      "Score for k = 8: 0.7017057569296375\n",
      "Score for k = 9: 0.6931769722814499\n",
      "Score for k = 10: 0.6974413646055437\n"
     ]
    }
   ],
   "source": [
    "k_scores = []\n",
    "\n",
    "for k in range(1, 11):\n",
    "    knn = KNeighborsClassifier(n_neighbors=k)\n",
    "    knn.fit(X_train, y_train)\n",
    "\n",
    "    knn_score = knn.score(X_test, y_test)\n",
    "    print('Score for k = ' + str(k) + ': ' + str(knn_score))\n",
    "    \n",
    "    k_scores.append(knn_score)"
   ]
  },
  {
   "cell_type": "markdown",
   "metadata": {},
   "source": [
    "Para encontrar um bom *k*, foram feitos 10 testes, com *k* variando de 1 até 10. O modelo é testado a cada iteração e a acurácia é aferida. O maior resultado desses testes é um forte candidato para a escolha do *k*."
   ]
  },
  {
   "cell_type": "code",
   "execution_count": 24,
   "metadata": {},
   "outputs": [
    {
     "name": "stdout",
     "output_type": "stream",
     "text": [
      "Best k to KNN Classifier: 1\n"
     ]
    }
   ],
   "source": [
    "np_k_scores = np.asarray(k_scores)\n",
    "best_k = np.argmax(np_k_scores) + 1\n",
    "print('Best k to KNN Classifier: ' + str(best_k))"
   ]
  },
  {
   "cell_type": "markdown",
   "metadata": {},
   "source": [
    "### Avaliando o modelo\n",
    "O modelo é criado utilizando o *k* que foi encontrado acima.  \n",
    "Os dados de treino são usados para treinar o modelo através do método *fit*, enquanto os dados de teste são usados no método *predict* para testar o modelo."
   ]
  },
  {
   "cell_type": "code",
   "execution_count": 25,
   "metadata": {},
   "outputs": [],
   "source": [
    "knn = KNeighborsClassifier(n_neighbors=best_k)\n",
    "knn.fit(X_train, y_train)\n",
    "y_pred = knn.predict(X_test)"
   ]
  },
  {
   "cell_type": "markdown",
   "metadata": {},
   "source": [
    "#### Matriz de confusão"
   ]
  },
  {
   "cell_type": "code",
   "execution_count": 38,
   "metadata": {},
   "outputs": [
    {
     "name": "stdout",
     "output_type": "stream",
     "text": [
      "[[ 927    2  345    0    2]\n",
      " [   9  171  329    5    0]\n",
      " [  33   10 2224   17    6]\n",
      " [   1    8  141  158    0]\n",
      " [  10    1  182    0  109]]\n"
     ]
    }
   ],
   "source": [
    "confusion = confusion_matrix(y_test, y_pred)\n",
    "print(confusion)"
   ]
  },
  {
   "cell_type": "markdown",
   "metadata": {},
   "source": [
    "#### Relatório de classificação"
   ]
  },
  {
   "cell_type": "code",
   "execution_count": 39,
   "metadata": {},
   "outputs": [
    {
     "name": "stdout",
     "output_type": "stream",
     "text": [
      "             precision    recall  f1-score   support\n",
      "\n",
      "     4587.0       0.95      0.73      0.82      1276\n",
      "     5656.0       0.89      0.33      0.48       514\n",
      "     8745.0       0.69      0.97      0.81      2290\n",
      "     9625.0       0.88      0.51      0.65       308\n",
      "    45845.0       0.93      0.36      0.52       302\n",
      "\n",
      "avg / total       0.81      0.77      0.75      4690\n",
      "\n"
     ]
    }
   ],
   "source": [
    "report = classification_report(y_test, y_pred)\n",
    "print(report)"
   ]
  }
 ],
 "metadata": {
  "kernelspec": {
   "display_name": "Python 3",
   "language": "python",
   "name": "python3"
  },
  "language_info": {
   "codemirror_mode": {
    "name": "ipython",
    "version": 3
   },
   "file_extension": ".py",
   "mimetype": "text/x-python",
   "name": "python",
   "nbconvert_exporter": "python",
   "pygments_lexer": "ipython3",
   "version": "3.5.2"
  }
 },
 "nbformat": 4,
 "nbformat_minor": 2
}
